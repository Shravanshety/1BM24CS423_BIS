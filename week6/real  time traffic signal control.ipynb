{
 "cells": [
  {
   "cell_type": "code",
   "execution_count": 2,
   "id": "dbda3c27-6559-477d-8f89-e9e5b4bca7c6",
   "metadata": {},
   "outputs": [
    {
     "name": "stdout",
     "output_type": "stream",
     "text": [
      "Iteration 0: Best timing [39.43605028 29.93557945 33.6319361 ], Fitness: 12.77\n",
      "Iteration 10: Best timing [29.59562847 28.11494535 31.23154465], Fitness: 2.23\n",
      "Iteration 20: Best timing [30.53714591 28.59671692 28.69754707], Fitness: -0.71\n",
      "Iteration 30: Best timing [30.23324802 30.61820354 30.09634857], Fitness: 5.10\n",
      "Iteration 40: Best timing [31.56794625 30.5891681  31.26909871], Fitness: 1.28\n",
      "Iteration 49: Best timing [27.74694426 28.20205901 30.30953739], Fitness: 7.52\n",
      "\n",
      "Best traffic signal timings found: [29.3790201  29.43470021 29.2349681 ]\n",
      "With estimated waiting time: -1.330080309585659\n",
      "Shravan shetty\n",
      "1BM24CS423\n"
     ]
    }
   ],
   "source": [
    "import random\n",
    "import numpy as np\n",
    "\n",
    "# Parameters\n",
    "num_nests = 20\n",
    "max_iterations = 50\n",
    "pa = 0.25  # Fraction of nests to abandon\n",
    "num_phases = 3  # Number of traffic light phases per intersection\n",
    "\n",
    "# Generate random traffic signal timings (e.g., seconds for each phase)\n",
    "def random_timing():\n",
    "    # Each phase between 10 and 60 seconds\n",
    "    return np.random.uniform(10, 60, size=num_phases)\n",
    "\n",
    "# Mock fitness function: lower total waiting time is better\n",
    "def fitness(timing):\n",
    "    # For demo, let's say waiting time increases with deviation from ideal timing (30 sec each phase)\n",
    "    ideal = np.array([30, 30, 30])\n",
    "    waiting_time = np.sum(np.abs(timing - ideal))\n",
    "    # Add some randomness to simulate varying traffic conditions\n",
    "    noise = random.uniform(-5, 5)\n",
    "    return waiting_time + noise\n",
    "\n",
    "# Levy flight step for new solution generation\n",
    "def levy_flight(timing, alpha=0.1):\n",
    "    # Levy flight: here simplified as random step scaled by alpha\n",
    "    step = np.random.normal(0, 1, size=timing.shape)\n",
    "    new_timing = timing + alpha * step * timing\n",
    "    # Keep timings within valid bounds (10 to 60 seconds)\n",
    "    new_timing = np.clip(new_timing, 10, 60)\n",
    "    return new_timing\n",
    "\n",
    "# Initialize nests\n",
    "nests = [random_timing() for _ in range(num_nests)]\n",
    "\n",
    "for iteration in range(max_iterations):\n",
    "    for i in range(num_nests):\n",
    "        new_timing = levy_flight(nests[i])\n",
    "        new_fit = fitness(new_timing)\n",
    "\n",
    "        j = random.randint(0, num_nests - 1)\n",
    "        old_fit = fitness(nests[j])\n",
    "\n",
    "        if new_fit < old_fit:\n",
    "            nests[j] = new_timing\n",
    "\n",
    "    # Abandon some nests and replace with new random timings\n",
    "    num_abandon = int(pa * num_nests)\n",
    "    fitness_values = [fitness(n) for n in nests]\n",
    "    worst_nests_indices = sorted(range(num_nests), key=lambda k: fitness_values[k], reverse=True)[:num_abandon]\n",
    "\n",
    "    for idx in worst_nests_indices:\n",
    "        nests[idx] = random_timing()\n",
    "\n",
    "    # Print best fitness every 10 iterations\n",
    "    if iteration % 10 == 0 or iteration == max_iterations - 1:\n",
    "        best_nest = min(nests, key=fitness)\n",
    "        print(f\"Iteration {iteration}: Best timing {best_nest}, Fitness: {fitness(best_nest):.2f}\")\n",
    "\n",
    "# Final best solution\n",
    "best_nest = min(nests, key=fitness)\n",
    "print(\"\\nBest traffic signal timings found:\", best_nest)\n",
    "print(\"With estimated waiting time:\", fitness(best_nest))\n",
    "\n",
    "print(\"Shravan shetty\")\n",
    "print(\"1BM24CS423\")"
   ]
  },
  {
   "cell_type": "code",
   "execution_count": null,
   "id": "bddd554b-ff55-4751-981e-afa9322792fb",
   "metadata": {},
   "outputs": [],
   "source": []
  }
 ],
 "metadata": {
  "kernelspec": {
   "display_name": "Python [conda env:base] *",
   "language": "python",
   "name": "conda-base-py"
  },
  "language_info": {
   "codemirror_mode": {
    "name": "ipython",
    "version": 3
   },
   "file_extension": ".py",
   "mimetype": "text/x-python",
   "name": "python",
   "nbconvert_exporter": "python",
   "pygments_lexer": "ipython3",
   "version": "3.13.5"
  }
 },
 "nbformat": 4,
 "nbformat_minor": 5
}
